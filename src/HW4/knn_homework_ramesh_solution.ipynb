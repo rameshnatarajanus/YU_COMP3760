{
  "cells": [
    {
      "cell_type": "markdown",
      "metadata": {
        "id": "view-in-github",
        "colab_type": "text"
      },
      "source": [
        "<a href=\"https://colab.research.google.com/github/rameshnatarajanus/YU_COMP3760/blob/main/src/HW4/knn_homework_ramesh_solution.ipynb\" target=\"_parent\"><img src=\"https://colab.research.google.com/assets/colab-badge.svg\" alt=\"Open In Colab\"/></a>"
      ]
    },
    {
      "cell_type": "markdown",
      "id": "52e974e0",
      "metadata": {
        "id": "52e974e0"
      },
      "source": [
        "This is Homework 4 for COMP 3760 Fall 2024\n",
        "\n",
        "Import the libraries math (for square root and absolute value) and pandas and numpy for reading csv files."
      ]
    },
    {
      "cell_type": "code",
      "execution_count": 5,
      "id": "26ebd6ac",
      "metadata": {
        "id": "26ebd6ac"
      },
      "outputs": [],
      "source": [
        "import math\n",
        "import pandas as pd\n",
        "import numpy as np"
      ]
    },
    {
      "cell_type": "markdown",
      "source": [
        "\n",
        "\n",
        "First generate some synthetic data examples to illustrate distance and nearest neighbor computation"
      ],
      "metadata": {
        "id": "a0aNFNrkxTUh"
      },
      "id": "a0aNFNrkxTUh"
    },
    {
      "cell_type": "code",
      "execution_count": 6,
      "id": "83e90e99",
      "metadata": {
        "id": "83e90e99",
        "colab": {
          "base_uri": "https://localhost:8080/"
        },
        "outputId": "73ab85e6-de94-482e-e796-53c74845e5ba"
      },
      "outputs": [
        {
          "output_type": "stream",
          "name": "stdout",
          "text": [
            "The vector  [1, 1, 1]  has tag  M\n"
          ]
        }
      ],
      "source": [
        "# Make an untagged vector name point, and two tagged vectors named data1 and data2 resply:\n",
        "point = [1, 0, 0, '?'] #(an unknown tag)\n",
        "data1 = [1, 1, 1, 'M']\n",
        "data2 = [1, 3, 0, 'F']\n",
        "\n",
        "# Write code to separate the data (X) from the tag (Y).  Your output should be:\n",
        "# The vector [1, 1, 1] has tag M\n",
        "# The vector [1, 3, 0] has tag F\n",
        "\n",
        "print(\"The vector \" , data1[0:-1], \" has tag \", data1[-1])"
      ]
    },
    {
      "cell_type": "code",
      "execution_count": 7,
      "id": "48695b4d",
      "metadata": {
        "id": "48695b4d",
        "colab": {
          "base_uri": "https://localhost:8080/"
        },
        "outputId": "394180fe-f740-4741-d41f-68d7253046f7"
      },
      "outputs": [
        {
          "output_type": "stream",
          "name": "stdout",
          "text": [
            "point: [1, 0, 0, '?']\n",
            "data1: [1, 1, 1, 'M']\n",
            "Euclidean: 1.4142135623730951\n",
            "Manhattan: 2\n",
            "Hamming: 2\n",
            "data2: [1, 3, 0, 'F']\n",
            "Euclidean: 3.0\n",
            "Manhattan: 3\n",
            "Hamming: 1\n"
          ]
        }
      ],
      "source": [
        "\n",
        "# Now let's classify the point as either M or F.\n",
        "\n",
        "# We'll do this by setting k = 1 and using the Euclidean distance.  We'll define that as\n",
        "\n",
        "# distance functions\n",
        "\n",
        "def euclideanDistance(instance1, instance2):\n",
        "   assert len(instance1) - len(instance2) <= 1\n",
        "   length = len(instance1) - 1\n",
        "   return math.sqrt(sum([pow (instance1[i] - instance2[i], 2) for i in range(length)]))\n",
        "\n",
        "def manhattanDistance(instance1, instance2):\n",
        "   assert len(instance1) - len(instance2) <= 1\n",
        "   length = len(instance1) - 1\n",
        "   return (sum([abs (instance1[i] - instance2[i]) for i in range(length)]))\n",
        "\n",
        "def hammingDistance(instance1, instance2):\n",
        "   assert len(instance1) - len(instance2) <= 1\n",
        "   length = len(instance1) - 1\n",
        "   return (sum([instance1[i] != instance2[i] for i in range(length)]))\n",
        "\n",
        "# Now, complete the following code to find out the distance between data1 and point and data2 and point. Output what the tag should be using euclideanDistance.\n",
        "\n",
        "print(f\"point: {point}\")\n",
        "print(f\"data1: {data1}\")\n",
        "print(f\"Euclidean: {euclideanDistance(data1, point)}\")\n",
        "print(f\"Manhattan: {manhattanDistance(data1, point)}\")\n",
        "print(f\"Hamming: {hammingDistance(data1, point)}\")\n",
        "print(f\"data2: {data2}\")\n",
        "print(f\"Euclidean: {euclideanDistance(data2, point)}\")\n",
        "print(f\"Manhattan: {manhattanDistance(data2, point)}\")\n",
        "print(f\"Hamming: {hammingDistance(data2, point)}\")\n"
      ]
    },
    {
      "cell_type": "code",
      "source": [
        "# Now, let's get more data from a file, myFile.csv (provided for you)\n",
        "\n",
        "url = 'https://github.com/rosenfa/ai/blob/master/myFile.csv?raw=true'\n",
        "\n",
        "train_df=pd.read_csv(url,  header=0, on_bad_lines='skip')\n",
        "train_data = np.array(train_df)\n",
        "\n",
        "# Show that you understand what you read by:\n",
        "\n",
        "# 1. Printing the first two vectors in the file\n",
        "# 2. Printing the Euclidean distance between those two vectors\n",
        "\n",
        "# Here is some code which I think might help get you on your way!\n",
        "\n",
        "# print(len(data))\n",
        "# print(euclideanDistance(data[0],data[1]))\n",
        "\n",
        "#TBD Part 1 (10 points)\n",
        "print(f\"first two records:\\n {train_data[0:2]}\")\n",
        "print(f\"euclidean distance: {euclideanDistance(train_data[0],train_data[1])}\")"
      ],
      "metadata": {
        "id": "Cmkyqakkl4cZ",
        "colab": {
          "base_uri": "https://localhost:8080/"
        },
        "outputId": "36caf0bb-84aa-489d-a98d-5476b325e972"
      },
      "id": "Cmkyqakkl4cZ",
      "execution_count": 8,
      "outputs": [
        {
          "output_type": "stream",
          "name": "stdout",
          "text": [
            "first two records:\n",
            " [[0 1 2 'F']\n",
            " [1 5 6 'F']]\n",
            "euclidean distance: 5.744562646538029\n"
          ]
        }
      ]
    },
    {
      "cell_type": "code",
      "source": [
        "\n",
        "# Now assume you have a new value for point, say [0,0,100]\n",
        "\n",
        "point=[0,0,100]\n",
        "\n",
        "# How would you classify this vector using the Euclidean distance function given all of the vectors in the file?\n",
        "# In order to help here is a hint:\n",
        "# We suggest defining some type of data struction to store different vectors' distances and their tags like this:\n",
        "\n",
        "class distClass:\n",
        "\n",
        "    def __init__(self, dist, tag):\n",
        "        self.dist = dist\n",
        "        self.tag = tag\n",
        "\n",
        "    def __str__(self):\n",
        "        return f\"({self.dist}, {self.tag})\"\n",
        "\n",
        "# You can then add vector distances like this:\n",
        "\n",
        "# distances = [] # list of distances, will hold objects of type distClass\n",
        "\n",
        "# temp, label = data[1, :-1], data[1,-1:]\n",
        "# d=euclideanDistance(point,temp,3)\n",
        "# print(\"Distances: (point, label)\" , point, label , \" (target) \" , temp,  \" = \" , str(d), )\n",
        "# distances.append(distClass(d, label)) #one record's distance and tag)\n",
        "# print(distances[0].dist)\n",
        "# distances.sort(key=lambda x: x.dist)\n",
        "\n",
        "\n"
      ],
      "metadata": {
        "id": "GFYP-iGhkNET"
      },
      "id": "GFYP-iGhkNET",
      "execution_count": 9,
      "outputs": []
    },
    {
      "cell_type": "code",
      "source": [
        "# Questions:\n",
        "\n",
        "# 1. What is the label for point if k=1?\n",
        "# 2. What is the label for point if k=3?\n",
        "# 3. Would the result be different if we used a different distance function like Hamming or Manhattan?\n",
        "\n",
        "\n",
        "\n",
        "def findKNNTarget(data, point,  k, distancefunction):\n",
        "  distances = []\n",
        "  for i in range(len(data)):\n",
        "    temp, label = data[i, :-1], data[i,-1:]\n",
        "    d=distancefunction(point,temp)\n",
        "    distances.append(distClass(d, label)) #one record's distance and tag)\n",
        "\n",
        "  distances.sort(key=lambda x: x.dist)\n",
        "  kNearestNeighbors = distances[:k]\n",
        "\n",
        "  targetCounts = {}\n",
        "  for neighbor in kNearestNeighbors:\n",
        "    target = neighbor.tag[0]\n",
        "    if target in targetCounts:\n",
        "      targetCounts[target] += 1\n",
        "    else:\n",
        "      targetCounts[target] = 1\n",
        "\n",
        "  sortedTargets = sorted(targetCounts.items(), key=lambda x: x[1], reverse=True)\n",
        "  return sortedTargets[0][0]\n",
        "\n",
        "# 1. What is the label for point if k=1?\n",
        "print(f\"Label for point if k=1 (euclidean): {findKNNTarget(train_data, point, 1, euclideanDistance)}\")\n",
        "\n",
        "# 2. What is the label for point if k=3?\n",
        "print(f\"Label for point if k=3 (euclidean): {findKNNTarget(train_data, point, 3, euclideanDistance)}\")\n",
        "\n",
        "# 3. Would the result be different if we used a different distance function like Hamming or Manhattan?\n",
        "print(f\"Label for point if k=3 (manhattan): {findKNNTarget(train_data, point, 3, manhattanDistance)}\")\n",
        "print(f\"Label for point if k=3 (hamming): {findKNNTarget(train_data, point, 3, hammingDistance)}\")\n",
        "\n",
        "\n",
        "#TBD. Points 10, 10, 10 (total 30)"
      ],
      "metadata": {
        "colab": {
          "base_uri": "https://localhost:8080/"
        },
        "id": "YeeCFiFuSQA8",
        "outputId": "8174b106-f530-45da-c04f-333141f4f54d"
      },
      "id": "YeeCFiFuSQA8",
      "execution_count": 10,
      "outputs": [
        {
          "output_type": "stream",
          "name": "stdout",
          "text": [
            "Label for point if k=1 (euclidean): F\n",
            "Label for point if k=3 (euclidean): F\n",
            "Label for point if k=3 (manhattan): F\n",
            "Label for point if k=3 (hamming): F\n"
          ]
        }
      ]
    },
    {
      "cell_type": "code",
      "source": [
        "\n",
        "#Add code with functions that implement Hamming and Manhattan distances and test\n",
        "#what the label will be for k=1 and k=3 for all possibilities\n",
        "#(6 total: 2 Euclidean, 2 Hamming and 2 Manhattan)\n",
        "\n",
        "\n",
        "for k in [1,3]:\n",
        "  for distancefunction in [euclideanDistance, manhattanDistance, hammingDistance]:\n",
        "    print(f\"Label for point if k={k} ({distancefunction.__name__}): {findKNNTarget(train_data, point, k, distancefunction)}\")\n",
        "\n",
        "#TBD Points 20"
      ],
      "metadata": {
        "id": "XTYnTddonMEa",
        "colab": {
          "base_uri": "https://localhost:8080/"
        },
        "outputId": "395c129d-6b85-431a-b85d-eb9e39ea0dd6"
      },
      "id": "XTYnTddonMEa",
      "execution_count": 11,
      "outputs": [
        {
          "output_type": "stream",
          "name": "stdout",
          "text": [
            "Label for point if k=1 (euclideanDistance): F\n",
            "Label for point if k=1 (manhattanDistance): F\n",
            "Label for point if k=1 (hammingDistance): F\n",
            "Label for point if k=3 (euclideanDistance): F\n",
            "Label for point if k=3 (manhattanDistance): F\n",
            "Label for point if k=3 (hammingDistance): F\n"
          ]
        }
      ]
    },
    {
      "cell_type": "code",
      "execution_count": 12,
      "id": "ec7e5c69",
      "metadata": {
        "id": "ec7e5c69",
        "colab": {
          "base_uri": "https://localhost:8080/"
        },
        "outputId": "65e46cb0-0b07-4737-8824-65a379af5b5b"
      },
      "outputs": [
        {
          "output_type": "stream",
          "name": "stdout",
          "text": [
            "train_data: (100, 30)\n",
            "[[0.317251 0.540016 0.150514 ... 0.0 0.212007 'F']\n",
            " [3.882181 0.0 0.0 ... 0.0 0.0 'F']\n",
            " [1.790708 0.0 0.0 ... 0.0 0.0 'F']\n",
            " ...\n",
            " [0.0 0.0 0.0 ... 0.0 0.0 'M']\n",
            " [0.0 0.0 0.0 ... 0.0 0.0 'M']\n",
            " [0.0 0.0 0.0 ... 0.0 0.0 'F']]\n",
            "train_data: (100, 30)\n",
            "[[2.85985 0.66275 0.0 ... 0.995289 0.0 'F']\n",
            " [0.0 12.998726 0.0 ... 0.0 0.0 'F']\n",
            " [13.231318 0.0 0.0 ... 0.0 0.0 'F']\n",
            " ...\n",
            " [0.0 0.0 0.0 ... 0.0 0.0 'M']\n",
            " [1.688611 0.0 3.204529 ... 0.0 0.0 'M']\n",
            " [0.0 0.0 0.0 ... 0.0 0.0 'M']]\n"
          ]
        }
      ],
      "source": [
        "\n",
        "# Up until here is a simplified version of the homework.\n",
        "# Below here is the work for the part we will be checking as the basis of your grade:\n",
        "\n",
        "# Now let's look at some bigger files:\n",
        "\n",
        "# 1. mytrain.csv (for training the model)\n",
        "# 2. mytest.csv (for testing)\n",
        "\n",
        "url = 'https://github.com/rosenfa/ai/blob/master/mytrain.csv?raw=true'\n",
        "train_data = np.array(pd.read_csv(url,  header=0, on_bad_lines='skip'))\n",
        "url = 'https://github.com/rosenfa/ai/blob/master/mytest.csv?raw=true'\n",
        "test_data = np.array(pd.read_csv(url,  header=0, on_bad_lines='skip'))\n",
        "\n",
        "print(f\"train_data: {train_data.shape}\")# number of records and features\n",
        "print(train_data)\n",
        "\n",
        "print(f\"train_data: {test_data.shape}\")# number of records and features\n",
        "print(test_data)\n"
      ]
    },
    {
      "cell_type": "code",
      "source": [
        "\n",
        "# I hope by now you understand where we are going with this :)\n",
        "\n",
        "# Now implement the knn code with 3 different values for k:\n",
        "# 1. k = 1\n",
        "# 2. k = 7\n",
        "# 3. k = 15\n",
        "\n",
        "# and at first use the Euclidean distance.\n",
        "# Classify each of the vectors in the test_data dataset using the training data from train_data.  Which value for k did the best?  What accuracy did it give you?\n",
        "\n",
        "def getaccuracy(train_data, test_data, k = 1, distancefunction=euclideanDistance):\n",
        "  correct = sum([test_data[i][-1] == findKNNTarget(train_data, test_data[i], k, distancefunction) for i in range(len(test_data))])\n",
        "  return correct / len(test_data)\n",
        "\n",
        "for k in [1, 7, 15]:\n",
        "  for distancefunction in [euclideanDistance, manhattanDistance, hammingDistance]:\n",
        "    print(f\"Accuracy for k={k} {distancefunction.__name__}: {getaccuracy(train_data, test_data, k, distancefunction)}\")\n",
        "\n",
        "# Now see if using Hamming or Manhattan distance give any better results for the same values of k.\n",
        "\n",
        "# Once you are done, you should have a total of 9 different results:\n",
        "\n",
        "# 1. Three results for the different value of k using the Euclidean Distance\n",
        "# 2. Three results for the different value of k using the Hamming Distance\n",
        "# 3. Three results for the different value of k using the Manhattan Distance\n",
        "\n",
        "# Hint: I strongly suggest you base yourself on the code you've seen until this point so you don't have to reinvent the wheel!\n",
        "\n",
        "# Points 10 + 10 + 10 = 30"
      ],
      "metadata": {
        "id": "KK8ZUrHvnQtz",
        "colab": {
          "base_uri": "https://localhost:8080/"
        },
        "outputId": "a67b2b94-af41-424b-c26c-9d7c3d5505aa"
      },
      "id": "KK8ZUrHvnQtz",
      "execution_count": 14,
      "outputs": [
        {
          "output_type": "stream",
          "name": "stdout",
          "text": [
            "Accuracy for k=1 euclideanDistance: 0.5\n",
            "Accuracy for k=1 manhattanDistance: 0.61\n",
            "Accuracy for k=1 hammingDistance: 0.61\n",
            "Accuracy for k=7 euclideanDistance: 0.74\n",
            "Accuracy for k=7 manhattanDistance: 0.63\n",
            "Accuracy for k=7 hammingDistance: 0.55\n",
            "Accuracy for k=15 euclideanDistance: 0.7\n",
            "Accuracy for k=15 manhattanDistance: 0.69\n",
            "Accuracy for k=15 hammingDistance: 0.57\n"
          ]
        }
      ]
    },
    {
      "cell_type": "markdown",
      "id": "c179152d",
      "metadata": {
        "id": "c179152d"
      },
      "source": [
        "Grade Basis:\n",
        "\n",
        "80% for correct answers (and yes, there are possibilities that multiple answers are correct-- especially for cases of ties).\n",
        "\n",
        "20% : Documentation and easily readable code\n",
        "\n",
        "Please publish your final Notebook in your Github directory.\n",
        "\n",
        "The homework assignment is due by November 20th at 11:59 PM."
      ]
    },
    {
      "cell_type": "markdown",
      "id": "935d9ae5",
      "metadata": {
        "id": "935d9ae5"
      },
      "source": []
    }
  ],
  "metadata": {
    "language_info": {
      "name": "python"
    },
    "colab": {
      "provenance": [],
      "include_colab_link": true
    },
    "kernelspec": {
      "name": "python3",
      "display_name": "Python 3"
    }
  },
  "nbformat": 4,
  "nbformat_minor": 5
}