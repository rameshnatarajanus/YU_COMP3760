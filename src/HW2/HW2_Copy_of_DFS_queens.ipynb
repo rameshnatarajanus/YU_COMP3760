{
  "cells": [
    {
      "cell_type": "markdown",
      "metadata": {
        "id": "view-in-github",
        "colab_type": "text"
      },
      "source": [
        "<a href=\"https://colab.research.google.com/github/rameshnatarajanus/YU_COMP3760/blob/main/src/HW2/HW2_Copy_of_DFS_queens.ipynb\" target=\"_parent\"><img src=\"https://colab.research.google.com/assets/colab-badge.svg\" alt=\"Open In Colab\"/></a>"
      ]
    },
    {
      "cell_type": "markdown",
      "metadata": {
        "id": "I_5uxzwmw86r"
      },
      "source": [
        "R. N. Modification of the original code from Prof Avi Rosenfeld.\n",
        "\n",
        "Note: 2 queens and 3 queens do not have a solution."
      ]
    },
    {
      "cell_type": "markdown",
      "metadata": {
        "id": "KYYQSRC3iZwd"
      },
      "source": [
        "This is the notebook version of the code. I will use this to explain the homework.  I used parts of the code from: https://www.sanfoundry.com/python-program-solve-n-queen-problem-without-recursion/"
      ]
    },
    {
      "cell_type": "markdown",
      "metadata": {
        "id": "buNsAi39imMX"
      },
      "source": [
        "As we did in class, we will represent the board as a one-dimensional array where each position  in the arrray is the row value. So if the array is: [1, 3, 0, 2], then the  queen in the first row is in column 1 (columns are labeled from 0--3), the queen in the second row is in column 3 (the last column), the queen in the third row is in column 0 and the  queen in the last row is in column 2."
      ]
    },
    {
      "cell_type": "markdown",
      "metadata": {
        "id": "3yiyZY21jX2A"
      },
      "source": [
        "Let's setup one iteration of the British Museum algorithm-- we'll put down n=8 queens randomly."
      ]
    },
    {
      "cell_type": "code",
      "execution_count": 3,
      "metadata": {
        "id": "vaypjvRyvXb1"
      },
      "outputs": [],
      "source": [
        "import random\n",
        "def place_n_queens(n):\n",
        "    assert n >= 0\n",
        "    columns = [random.randrange(0,n) for x in range(n)]\n",
        "    return columns\n",
        "\n",
        "\n",
        "def displayBoard(columns):\n",
        "    if not columns:\n",
        "        return\n",
        "    n = len(columns)\n",
        "    print(columns)\n",
        "    for rowVal in range(n):\n",
        "        rowStr = [\".\" for x in range(n)]\n",
        "        rowStr[columns[rowVal]] = '♛'\n",
        "        print(\"  \".join(rowStr))\n",
        "    print()\n"
      ]
    },
    {
      "cell_type": "code",
      "execution_count": 4,
      "metadata": {
        "colab": {
          "base_uri": "https://localhost:8080/"
        },
        "id": "97X0rqn1HwcR",
        "outputId": "516ccc5e-dd20-4d3b-9449-95dd5dd10d11"
      },
      "outputs": [
        {
          "output_type": "stream",
          "name": "stdout",
          "text": [
            "[2, 7, 2, 2, 1, 2, 5, 0]\n",
            ".  .  ♛  .  .  .  .  .\n",
            ".  .  .  .  .  .  .  ♛\n",
            ".  .  ♛  .  .  .  .  .\n",
            ".  .  ♛  .  .  .  .  .\n",
            ".  ♛  .  .  .  .  .  .\n",
            ".  .  ♛  .  .  .  .  .\n",
            ".  .  .  .  .  ♛  .  .\n",
            "♛  .  .  .  .  .  .  .\n",
            "\n"
          ]
        }
      ],
      "source": [
        "columns = place_n_queens(8)\n",
        "displayBoard(columns)"
      ]
    },
    {
      "cell_type": "markdown",
      "metadata": {
        "id": "IkJ6-mkSkGoo"
      },
      "source": [
        "This arrangement is of course is not necessary legal, so we'll write a simple DFS search with backtracking:\n",
        "\n",
        "First some helper functions ..\n",
        "\n",
        "\n",
        "1. place_next_row\n",
        "\n",
        "2. remove_current_row\n",
        "\n",
        "3. is_col_place_in_next_row_valid"
      ]
    },
    {
      "cell_type": "code",
      "execution_count": 5,
      "metadata": {
        "id": "2CvQuja7kyii"
      },
      "outputs": [],
      "source": [
        "def place_next_row(col, columns):\n",
        "    columns.append(col)\n",
        "\n",
        "def remove_current_row(columns):\n",
        "    if len(columns) > 0:\n",
        "        return columns.pop()\n",
        "    return -1\n",
        "\n",
        "def is_col_place_in_next_row_valid(col, columns):\n",
        "    # new row\n",
        "    row = len(columns)\n",
        "\n",
        "    def check_no_conflicts(col, row, queen_col, queen_row):\n",
        "      return (col != queen_col) and (queen_col - queen_row != col - row) and (queen_col + queen_row != col + row)\n",
        "\n",
        "    # return True if all  existing queens do not conflict with the proposed (row, col) position\n",
        "    return all([check_no_conflicts(col, row, queen_col, queen_row) for queen_row, queen_col in enumerate(columns)])\n",
        "\n",
        "def is_valid_solution(columns):\n",
        "    return all([is_col_place_in_next_row_valid(col, columns[:row]) for row, col in enumerate(columns)])"
      ]
    },
    {
      "cell_type": "code",
      "source": [
        "columns = place_n_queens(8)\n",
        "print(columns)\n",
        "print(max(columns))"
      ],
      "metadata": {
        "id": "B9E-sG5ck5pQ",
        "outputId": "cedc960b-4dbb-44e7-d765-9b01b5da1647",
        "colab": {
          "base_uri": "https://localhost:8080/"
        }
      },
      "execution_count": 6,
      "outputs": [
        {
          "output_type": "stream",
          "name": "stdout",
          "text": [
            "[6, 2, 5, 5, 3, 6, 4, 3]\n",
            "6\n"
          ]
        }
      ]
    },
    {
      "cell_type": "markdown",
      "metadata": {
        "id": "qPHBFqPikkEL"
      },
      "source": [
        "We can now write the desired dfs code by starting with a blank board and placing the queens in one row at a time, starting with the first row.\n",
        "\n"
      ]
    },
    {
      "cell_type": "code",
      "execution_count": 7,
      "metadata": {
        "id": "UHy5XYdAMGC2"
      },
      "outputs": [],
      "source": [
        "def solve_queens_dfs(size):\n",
        "    columns = []\n",
        "    number_of_moves = 0 #where do I change this so it counts the number of Queen moves?\n",
        "    number_of_iterations = 0\n",
        "    row = 0 # current row\n",
        "    col = 0 # always start each row at leftmost col\n",
        "    # iterate over rows of board\n",
        "    while True:\n",
        "        #place queen in next row\n",
        "        # print(\"I have \", row, \" number of queens put down\")\n",
        "        # print(columns)\n",
        "        # print(f\"number_of_moves: {number_of_moves}\")\n",
        "        while col < size:\n",
        "            number_of_iterations += 1\n",
        "            if is_col_place_in_next_row_valid(col, columns):\n",
        "                place_next_row(col, columns)\n",
        "                number_of_moves += 1\n",
        "                # print(f\"placed: row: {row}, col: {col}\")\n",
        "                row += 1\n",
        "                col = 0\n",
        "                break\n",
        "            else:\n",
        "                # print(f\"not placed: row: {row}, col: {col}\")\n",
        "                col += 1\n",
        "\n",
        "\n",
        "        # could not find an open col in this row (backtrack),  or board is full\n",
        "        if (col == size or row == size):\n",
        "            number_of_iterations+=1\n",
        "            # if board is full, we have a solution\n",
        "            if row == size:\n",
        "                print(\"I did it! Here is my solution\")\n",
        "                display(columns)\n",
        "                converged = True\n",
        "                return columns, number_of_iterations, number_of_moves, converged\n",
        "            # else couldn't find a solution so need to backtrack\n",
        "            # print(\"start to backtrack ... \")\n",
        "            prev_col = remove_current_row(columns)\n",
        "            if (prev_col == -1): # backtracked past column 1\n",
        "                print(\"There are no solutions\")\n",
        "                #print(number_of_moves)\n",
        "                converged = False\n",
        "                return columns, number_of_iterations, number_of_moves, converged\n",
        "            # retry previous row again\n",
        "            row -= 1\n",
        "            # start to now check at col = (1 + value of prev_column in the row)\n",
        "            col = 1 + prev_col\n",
        "\n"
      ]
    },
    {
      "cell_type": "markdown",
      "metadata": {
        "id": "ku6jHFBZQND-"
      },
      "source": [
        "Now what?  Can you implement the British Museum Algorithm?  How many moves and iterations did it take to solve the 4 queens problem?  \n",
        "\n",
        "How many moves/iterations did it take to solve the 8 queens (if at all)?"
      ]
    },
    {
      "cell_type": "code",
      "source": [
        "\n",
        "def solve_queens_britishmuseum(size):\n",
        "\n",
        "  MAX_NUMBER_OF_ITERATIONS = 1000000\n",
        "  number_of_iterations, number_of_moves, converged = 0, 0, False\n",
        "\n",
        "  while not converged and number_of_iterations < MAX_NUMBER_OF_ITERATIONS:\n",
        "    number_of_iterations += 1\n",
        "    columns = place_n_queens(size)\n",
        "    number_of_moves += 8\n",
        "    if is_valid_solution(columns):\n",
        "      converged = True\n",
        "\n",
        "  return columns, number_of_iterations, number_of_moves, converged"
      ],
      "metadata": {
        "id": "LHTktszzc9Hy"
      },
      "execution_count": 8,
      "outputs": []
    },
    {
      "cell_type": "code",
      "execution_count": 9,
      "metadata": {
        "colab": {
          "base_uri": "https://localhost:8080/"
        },
        "id": "D7SgEJ6RVm1T",
        "outputId": "8b41da72-fb7a-44b2-c3bb-5acb5ac0e5a4"
      },
      "outputs": [
        {
          "output_type": "stream",
          "name": "stdout",
          "text": [
            "is converged: True\n",
            "is valid solution obtained: True\n",
            "number of iterations: 139741\n",
            "number of moves: 1117928\n",
            "display the results\n",
            "[7, 1, 4, 2, 0, 6, 3, 5]\n",
            ".  .  .  .  .  .  .  ♛\n",
            ".  ♛  .  .  .  .  .  .\n",
            ".  .  .  .  ♛  .  .  .\n",
            ".  .  ♛  .  .  .  .  .\n",
            "♛  .  .  .  .  .  .  .\n",
            ".  .  .  .  .  .  ♛  .\n",
            ".  .  .  ♛  .  .  .  .\n",
            ".  .  .  .  .  ♛  .  .\n",
            "\n"
          ]
        }
      ],
      "source": [
        "\n",
        "size = 8\n",
        "\n",
        "solve_algorithm = solve_queens_britishmuseum\n",
        "ntrials = 1 # for timing runs,  or for multiple restarts for randomized algorithms\n",
        "for i in range(0, ntrials):\n",
        "  num_iterations = 0\n",
        "  number_moves = 0\n",
        "  columns, num_iterations, number_moves, converged=solve_algorithm(size)\n",
        "  print(f\"is converged: {converged}\")\n",
        "  print(f\"is valid solution obtained: {is_valid_solution(columns)}\")\n",
        "  print(f\"number of iterations: {num_iterations}\")\n",
        "  print(f\"number of moves: {number_moves}\")\n",
        "  if converged:\n",
        "      print(\"display the results\")\n",
        "      displayBoard(columns)"
      ]
    },
    {
      "cell_type": "code",
      "source": [
        "def count_row_conflicts(row, columns):\n",
        "  assert row < len(columns)\n",
        "  row_conflicts = 0\n",
        "  col = columns[row]\n",
        "  for queen_row, queen_col in enumerate(columns):\n",
        "    if queen_row != row:\n",
        "      row_conflicts +=  (col == queen_col) + (queen_col - queen_row == col - row) + (queen_col + queen_row == col + row)\n",
        "  return row_conflicts\n",
        "\n",
        "def count_conflicts(columns):\n",
        "  return sum([count_row_conflicts(row, columns) for row in range(len(columns))])/2\n",
        "\n",
        "def test_count_row_conflicts():\n",
        "\n",
        "  print(\"display a board with no conflicts\")\n",
        "  columns = [5, 1, 6, 0, 2, 4, 7, 3] # solution\n",
        "  displayBoard(columns)\n",
        "  for row in range(len(columns)):\n",
        "    print(f\"row: {row}, row conflicts: {count_row_conflicts(row, columns)}\")\n",
        "  assert all([count_row_conflicts(row, columns) == 0 for row in range(len(columns))])\n",
        "\n",
        "  print()\n",
        "  print(\"display a board with conflicts\")\n",
        "  columns = [5, 1, 0, 6, 2, 4, 7, 3] # not a solution\n",
        "\n",
        "  displayBoard(columns)\n",
        "  for row in range(len(columns)):\n",
        "    print(f\"row: {row}, row conflicts: {count_row_conflicts(row, columns)}\")\n",
        "  assert not all([count_row_conflicts(row, columns) == 0 for row in range(len(columns))])\n",
        "\n",
        "\n",
        "def test_count_conflicts():\n",
        "\n",
        "  columns = [5, 1, 6, 0, 2, 4, 7, 3] # solution\n",
        "  assert count_conflicts(columns) == 0\n",
        "\n",
        "  print()\n",
        "  columns = [5, 1, 0, 6, 2, 4, 7, 3] # not a solution\n",
        "  assert count_conflicts(columns) == 3\n",
        "\n",
        "\n",
        "test_count_row_conflicts()\n",
        "test_count_conflicts()\n"
      ],
      "metadata": {
        "id": "kA2sDQKLnmIO",
        "outputId": "a6f987e2-a5e0-4460-ca19-13406618d712",
        "colab": {
          "base_uri": "https://localhost:8080/"
        }
      },
      "execution_count": 10,
      "outputs": [
        {
          "output_type": "stream",
          "name": "stdout",
          "text": [
            "display a board with no conflicts\n",
            "[5, 1, 6, 0, 2, 4, 7, 3]\n",
            ".  .  .  .  .  ♛  .  .\n",
            ".  ♛  .  .  .  .  .  .\n",
            ".  .  .  .  .  .  ♛  .\n",
            "♛  .  .  .  .  .  .  .\n",
            ".  .  ♛  .  .  .  .  .\n",
            ".  .  .  .  ♛  .  .  .\n",
            ".  .  .  .  .  .  .  ♛\n",
            ".  .  .  ♛  .  .  .  .\n",
            "\n",
            "row: 0, row conflicts: 0\n",
            "row: 1, row conflicts: 0\n",
            "row: 2, row conflicts: 0\n",
            "row: 3, row conflicts: 0\n",
            "row: 4, row conflicts: 0\n",
            "row: 5, row conflicts: 0\n",
            "row: 6, row conflicts: 0\n",
            "row: 7, row conflicts: 0\n",
            "\n",
            "display a board with conflicts\n",
            "[5, 1, 0, 6, 2, 4, 7, 3]\n",
            ".  .  .  .  .  ♛  .  .\n",
            ".  ♛  .  .  .  .  .  .\n",
            "♛  .  .  .  .  .  .  .\n",
            ".  .  .  .  .  .  ♛  .\n",
            ".  .  ♛  .  .  .  .  .\n",
            ".  .  .  .  ♛  .  .  .\n",
            ".  .  .  .  .  .  .  ♛\n",
            ".  .  .  ♛  .  .  .  .\n",
            "\n",
            "row: 0, row conflicts: 0\n",
            "row: 1, row conflicts: 1\n",
            "row: 2, row conflicts: 2\n",
            "row: 3, row conflicts: 1\n",
            "row: 4, row conflicts: 1\n",
            "row: 5, row conflicts: 1\n",
            "row: 6, row conflicts: 0\n",
            "row: 7, row conflicts: 0\n",
            "\n"
          ]
        }
      ]
    },
    {
      "cell_type": "code",
      "source": [
        "\n",
        "def solve_queens_hillclimbing(size):\n",
        "\n",
        "  MAX_NUMBER_OF_ITERATIONS = 1000\n",
        "  MAX_ITERATIONS_WITHOUT_IMPROVEMENT = 10\n",
        "  number_of_iterations, number_of_moves, converged = 0, 0, False\n",
        "\n",
        "  columns = place_n_queens(size)\n",
        "  min_conflict_count = count_conflicts(columns)\n",
        "  print(f\"initial conflict count: {min_conflict_count}\")\n",
        "\n",
        "  while not converged and number_of_iterations < MAX_NUMBER_OF_ITERATIONS:\n",
        "    number_of_iterations += 1\n",
        "\n",
        "    #check all possible moves and pick the best\n",
        "    best_row, best_col = -1, -1\n",
        "    for row in range(size):\n",
        "      col = columns[row]\n",
        "      for new_col in range(size):\n",
        "        columns[row] = new_col # swap to new state\n",
        "        conflict_count = count_conflicts(columns)\n",
        "        if conflict_count < min_conflict_count:\n",
        "          min_conflict_count = conflict_count\n",
        "          best_row, best_col = row, new_col\n",
        "          improvement_count = 0  # reset counter tracking no improvement per iteration\n",
        "\n",
        "        columns[row] = col  # swap back to old state and continue\n",
        "\n",
        "    # replace with best solution at the end of the scan\n",
        "    # print(f\"min_conflict_count: {min_conflict_count}\")\n",
        "    if best_row != -1: # better solution found\n",
        "      columns[best_row] = best_col\n",
        "      number_of_moves += 1\n",
        "    else:\n",
        "      improvement_count += 1  # no better solution found\n",
        "      if improvement_count > MAX_ITERATIONS_WITHOUT_IMPROVEMENT: # restart with another random configuration\n",
        "          columns = place_n_queens(size)\n",
        "          min_conflict_count = count_conflicts(columns)\n",
        "\n",
        "    converged = min_conflict_count == 0\n",
        "\n",
        "  return columns, number_of_iterations, number_of_moves, converged"
      ],
      "metadata": {
        "id": "Czn425hIhHdZ"
      },
      "execution_count": 11,
      "outputs": []
    },
    {
      "cell_type": "markdown",
      "source": [
        "Does the DFS algorithm get to 30 (not easily at all!).  To show this check the values for num_iterations and number_moves for values of 10, 20 and 30.  Feel free to stop the DFS algorithm after 10,000,000 iterations!"
      ],
      "metadata": {
        "id": "EKTbVMz04Zgp"
      }
    },
    {
      "cell_type": "code",
      "source": [
        "columns, num_iterations, number_moves, converged=solve_queens_hillclimbing(5)\n",
        "print(f\"is converged: {converged}\")\n",
        "print(f\"is valid solution obtained: {is_valid_solution(columns)}\")\n",
        "print(f\"number of iterations: {num_iterations}\")\n",
        "print(f\"number of moves: {number_moves}\")"
      ],
      "metadata": {
        "id": "J27641cq4o9t",
        "outputId": "6ed11b03-7689-4033-f573-1c331af1c04e",
        "colab": {
          "base_uri": "https://localhost:8080/"
        }
      },
      "execution_count": 15,
      "outputs": [
        {
          "output_type": "stream",
          "name": "stdout",
          "text": [
            "initial conflict count: 4.0\n",
            "min_conflict_count: 2.0\n",
            "min_conflict_count: 2.0\n",
            "min_conflict_count: 2.0\n",
            "min_conflict_count: 2.0\n",
            "min_conflict_count: 2.0\n",
            "min_conflict_count: 2.0\n",
            "min_conflict_count: 2.0\n",
            "min_conflict_count: 2.0\n",
            "min_conflict_count: 2.0\n",
            "min_conflict_count: 2.0\n",
            "min_conflict_count: 2.0\n",
            "min_conflict_count: 2.0\n",
            "min_conflict_count: 1.0\n",
            "min_conflict_count: 0.0\n",
            "is converged: True\n",
            "is valid solution obtained: True\n",
            "number of iterations: 14\n",
            "number of moves: 3\n"
          ]
        }
      ]
    },
    {
      "cell_type": "markdown",
      "source": [
        "Now implement your Hill Climbing Heuristic Repair Algorithm and check the values for num_iterations and number_moves for values of 10, 20 and 30."
      ],
      "metadata": {
        "id": "a1hjkMwH4IXg"
      }
    },
    {
      "cell_type": "code",
      "source": [
        "#add code here"
      ],
      "metadata": {
        "id": "ciexVABT4qXQ"
      },
      "execution_count": null,
      "outputs": []
    },
    {
      "cell_type": "markdown",
      "source": [
        "Now implement your Forward Checking and check the values for num_iterations and number_moves for values of 10, 20 and 30. As this algorithm is not deterministic, run the algorithm 30 times for each of the values for n and report on the average values for the two counters."
      ],
      "metadata": {
        "id": "Czw7MqID4sRP"
      }
    },
    {
      "cell_type": "code",
      "source": [
        "#add code here"
      ],
      "metadata": {
        "id": "UeLL1kU-51ba"
      },
      "execution_count": null,
      "outputs": []
    },
    {
      "cell_type": "markdown",
      "source": [
        "Challenge Question: Write a loop solving and printing each of the n-Queens problems to 40.  Can you get either of the solutions to get all the way to 40?  Did you need to add clever tricks to make it happen?"
      ],
      "metadata": {
        "id": "cGJ5d1Vp457h"
      }
    }
  ],
  "metadata": {
    "colab": {
      "provenance": [],
      "include_colab_link": true
    },
    "kernelspec": {
      "display_name": "Python 3",
      "name": "python3"
    },
    "language_info": {
      "codemirror_mode": {
        "name": "ipython",
        "version": 3
      },
      "file_extension": ".py",
      "mimetype": "text/x-python",
      "name": "python",
      "nbconvert_exporter": "python",
      "pygments_lexer": "ipython3",
      "version": "3.10.13"
    }
  },
  "nbformat": 4,
  "nbformat_minor": 0
}