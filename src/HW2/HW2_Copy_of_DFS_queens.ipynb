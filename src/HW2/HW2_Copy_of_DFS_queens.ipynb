{
  "cells": [
    {
      "cell_type": "markdown",
      "metadata": {
        "id": "I_5uxzwmw86r"
      },
      "source": [
        "# Preliminaries\n",
        "\n",
        "R. N. Modification of the original code from Prof Avi Rosenfeld.\n",
        "\n",
        "Note: 2 queens and 3 queens do not have a solution."
      ]
    },
    {
      "cell_type": "markdown",
      "metadata": {
        "id": "KYYQSRC3iZwd"
      },
      "source": [
        "This is the notebook version of the code. I will use this to explain the homework.  I used parts of the code from: https://www.sanfoundry.com/python-program-solve-n-queen-problem-without-recursion/"
      ]
    },
    {
      "cell_type": "markdown",
      "metadata": {
        "id": "buNsAi39imMX"
      },
      "source": [
        "As we did in class, we will represent the board as a one-dimensional array \"columns\" where each position  in the array is the row value.\n",
        "\n",
        "So if the array is: [1, 3, 0, 2], then the  queen in the first row is in column 1 (columns are labeled from 0--3), the queen in the second row is in column 3 (the last column), the queen in the third row is in column 0 and the  queen in the last row is in column 2.\n",
        "\n",
        "Note that sometimes we will have a partial board like [1,3] which means that only the first 2 rows have queens placed, and the remaining row placements are still to be ascertained.\n",
        "\n"
      ]
    },
    {
      "cell_type": "markdown",
      "metadata": {
        "id": "3yiyZY21jX2A"
      },
      "source": [
        "## Random board placement\n",
        "Let's setup one iteration of the British Museum algorithm-- we'll put down n=8 queens randomly."
      ]
    },
    {
      "cell_type": "code",
      "execution_count": 4,
      "metadata": {
        "id": "vaypjvRyvXb1"
      },
      "outputs": [],
      "source": [
        "\n",
        "import random\n",
        "def place_n_queens(n):\n",
        "    assert n >= 0\n",
        "    columns = [random.randrange(0,n) for x in range(n)]\n",
        "    return columns\n",
        "\n",
        "\n",
        "def displayBoard(columns):\n",
        "    if not columns:\n",
        "        return\n",
        "    n = len(columns)\n",
        "    print(columns)\n",
        "    for rowVal in range(n):\n",
        "        rowStr = [\".\" for x in range(n)]\n",
        "        rowStr[columns[rowVal]] = '♛'\n",
        "        print(\"  \".join(rowStr))\n",
        "    print()\n",
        "\n",
        "\n"
      ]
    },
    {
      "cell_type": "markdown",
      "source": [
        "## Solution validity check\n",
        "We also need some way to determine if such a board position is valid, which we can check row by row as we traverse the columns array to check for conflicts with the queen placements in the previous rows."
      ],
      "metadata": {
        "id": "qOCVnLvk-dgu"
      }
    },
    {
      "cell_type": "code",
      "source": [
        "# check if the next row queen can be placed in column col\n",
        "def is_col_place_in_next_row_valid(col, columns):\n",
        "\n",
        "    row = len(columns) # next row\n",
        "\n",
        "    def check_no_conflicts(col, row, queen_col, queen_row):\n",
        "      return (col != queen_col) and (queen_col - queen_row != col - row) and (queen_col + queen_row != col + row)\n",
        "\n",
        "    # return True if all previous queen placements do not conflict with the proposed (row, col) position\n",
        "    return all([check_no_conflicts(col, row, queen_col, queen_row) for queen_row, queen_col in enumerate(columns)])\n",
        "\n",
        "# use the helper function to check for the validity of the full board\n",
        "def is_valid_solution(size, columns):\n",
        "    return len(columns) == size and all([is_col_place_in_next_row_valid(col, columns[:row]) for row, col in enumerate(columns)])\n",
        "\n",
        "# is some random placement  a valid solution\n",
        "columns = place_n_queens(8)\n",
        "print(\"proposed solution:\")\n",
        "displayBoard(columns)\n",
        "print(f\"is this a valid solution?: {is_valid_solution(8, columns)}\")"
      ],
      "metadata": {
        "id": "Vt8UlHPA-b15",
        "outputId": "c57fee6d-3038-4650-b8d2-e13efa4f4cca",
        "colab": {
          "base_uri": "https://localhost:8080/"
        }
      },
      "execution_count": 6,
      "outputs": [
        {
          "output_type": "stream",
          "name": "stdout",
          "text": [
            "proposed solution:\n",
            "[2, 1, 0, 3, 2, 0, 1, 3]\n",
            ".  .  ♛  .  .  .  .  .\n",
            ".  ♛  .  .  .  .  .  .\n",
            "♛  .  .  .  .  .  .  .\n",
            ".  .  .  ♛  .  .  .  .\n",
            ".  .  ♛  .  .  .  .  .\n",
            "♛  .  .  .  .  .  .  .\n",
            ".  ♛  .  .  .  .  .  .\n",
            ".  .  .  ♛  .  .  .  .\n",
            "\n",
            "is this a valid solution?: False\n"
          ]
        }
      ]
    },
    {
      "cell_type": "markdown",
      "source": [
        "Since this random arrangement of queens is of course unlikely to be a solution, we can iterate this till we get a solution.  This is the British Museum algorithm, which is obviously pretty naive approach, but easy to implement."
      ],
      "metadata": {
        "id": "iMQh_hIi9H0j"
      }
    },
    {
      "cell_type": "markdown",
      "source": [
        "# Algorithm testing and measurement harness\n",
        "First though, we introduce a general-purpose harness for running any n-queens solution algorithm.\n",
        "\n",
        "We assume that the algorithm is  implemented with the function signature:\n",
        "\n",
        "```\n",
        "columns, num_iterations, num_moves, converged=solve_algorithm(size)```\n",
        "\n",
        "Here, size is the n in n-queens, columns is the final solution which is a converged solution if converged = True, and num_iterations and num_moves are measures of the efficiency of the algorithm (One can think of num_iterations as the number of state transitions, and num_moves as the number of queens moved cumulatively over these state transition).   \n",
        "\n",
        "For example if every state transition only involved 1 queen move, then num_iterations = num_moves, but as in the British museum algorithm if each state transition involves 8 queen placements then num_moves = 8 * num_iterations.\n",
        "\n",
        "The solve_nqueens harness method takes as arguments the function reference to the n-queens solution algorithm above, size (which is the n in n-queens) and ntrials which can be greater than 1 for  algorithms that have a random component, e.g. random initialization or random search (if ntrials > 1, then the averaged set of results over multiple trials is returned)."
      ],
      "metadata": {
        "id": "cMjE9si686i3"
      }
    },
    {
      "cell_type": "code",
      "source": [
        "def solve_nqueens(solve_algorithm, size = 8,  ntrials = 1):\n",
        "\n",
        "  num_iterations_list, num_moves_list, convergence_list = [], [], []\n",
        "  for i in range(0, ntrials):\n",
        "    columns, num_iterations, num_moves, converged=solve_algorithm(size)\n",
        "    num_iterations_list.append(num_iterations)\n",
        "    num_moves_list.append(num_moves)\n",
        "    convergence_list.append(converged)\n",
        "    print(f\"is converged: {converged}\")\n",
        "    print(f\"is valid solution obtained (check): {is_valid_solution(size, columns)}\")\n",
        "    print(f\"number of iterations: {num_iterations}\")\n",
        "    print(f\"number of moves: {num_moves}\")\n",
        "    if converged:\n",
        "        print(\"display the results\")\n",
        "        displayBoard(columns)\n",
        "\n",
        "  if ntrials > 1:\n",
        "    print(f\"average number of iterations: {sum(num_iterations_list)/len(num_iterations_list)}\")\n",
        "    print(f\"average number of moves: {sum(num_moves_list)/len(num_moves_list)}\")\n",
        "    print(f\"average convergence: {sum(convergence_list)/len(convergence_list)}\")"
      ],
      "metadata": {
        "id": "5D-aTEw66tVo"
      },
      "execution_count": 7,
      "outputs": []
    },
    {
      "cell_type": "markdown",
      "metadata": {
        "id": "ku6jHFBZQND-"
      },
      "source": [
        "# British Museum algorithm\n",
        "\n",
        "Now what?  Can you implement the British Museum Algorithm?  How many moves and iterations did it take to solve the 4 queens problem?  \n",
        "\n",
        "How many moves/iterations did it take to solve the 8 queens (if at all)?"
      ]
    },
    {
      "cell_type": "code",
      "source": [
        "\n",
        "def solve_britishmuseum(size):\n",
        "\n",
        "  MAX_NUMBER_OF_ITERATIONS = 1000000\n",
        "  number_of_iterations, number_of_moves, converged = 0, 0, False\n",
        "\n",
        "  while not converged and number_of_iterations < MAX_NUMBER_OF_ITERATIONS:\n",
        "    number_of_iterations += 1\n",
        "    columns = place_n_queens(size)\n",
        "    number_of_moves += 8\n",
        "    if is_valid_solution(size,columns):\n",
        "      converged = True\n",
        "\n",
        "  return columns, number_of_iterations, number_of_moves, converged"
      ],
      "metadata": {
        "id": "LHTktszzc9Hy"
      },
      "execution_count": 8,
      "outputs": []
    },
    {
      "cell_type": "code",
      "execution_count": 9,
      "metadata": {
        "colab": {
          "base_uri": "https://localhost:8080/"
        },
        "id": "D7SgEJ6RVm1T",
        "outputId": "7ab2ec37-b691-4807-83f1-816ea548880d"
      },
      "outputs": [
        {
          "output_type": "stream",
          "name": "stdout",
          "text": [
            "is converged: True\n",
            "is valid solution obtained (check): True\n",
            "number of iterations: 258768\n",
            "number of moves: 2070144\n",
            "display the results\n",
            "[4, 1, 3, 5, 7, 2, 0, 6]\n",
            ".  .  .  .  ♛  .  .  .\n",
            ".  ♛  .  .  .  .  .  .\n",
            ".  .  .  ♛  .  .  .  .\n",
            ".  .  .  .  .  ♛  .  .\n",
            ".  .  .  .  .  .  .  ♛\n",
            ".  .  ♛  .  .  .  .  .\n",
            "♛  .  .  .  .  .  .  .\n",
            ".  .  .  .  .  .  ♛  .\n",
            "\n"
          ]
        }
      ],
      "source": [
        "\n",
        "solve_nqueens(solve_britishmuseum, size = 8,  ntrials = 1)\n"
      ]
    },
    {
      "cell_type": "markdown",
      "metadata": {
        "id": "IkJ6-mkSkGoo"
      },
      "source": [
        "# DFS algorithm with backtracking\n",
        "\n",
        "The BM approach is not very efficient, so we'll write a simple DFS search that places the n queens row by row with backtracking:\n",
        "\n",
        "First some helper functions to tentatively place and remove a queen from the next row.\n",
        "\n",
        "1. place_next_row\n",
        "\n",
        "2. remove_current_row\n",
        "\n",
        "These functions will be called after using the is_col_place_in_next_row_valid function given earlier to ensure that a new row placement is valid"
      ]
    },
    {
      "cell_type": "code",
      "execution_count": 12,
      "metadata": {
        "id": "2CvQuja7kyii"
      },
      "outputs": [],
      "source": [
        "def place_next_row(col, columns):\n",
        "    columns.append(col)\n",
        "\n",
        "def remove_current_row(columns):\n",
        "    if len(columns) > 0:\n",
        "        return columns.pop()\n",
        "    return -1"
      ]
    },
    {
      "cell_type": "markdown",
      "metadata": {
        "id": "qPHBFqPikkEL"
      },
      "source": [
        "We can now write the desired dfs code by starting with a blank board and placing the queens in one row at a time, starting with the first col in the first row.\n",
        "\n"
      ]
    },
    {
      "cell_type": "code",
      "execution_count": 10,
      "metadata": {
        "id": "UHy5XYdAMGC2"
      },
      "outputs": [],
      "source": [
        "def solve_dfs(size):\n",
        "    columns = []\n",
        "    MAX_NUMBER_OF_ITERATIONS = 1000\n",
        "    number_of_iterations, number_of_moves, converged = 0, 0, False\n",
        "\n",
        "    row = 0 # current row\n",
        "    col = 0 # always start each row at leftmost col\n",
        "    # iterate over rows of board\n",
        "    while True and number_of_iterations < MAX_NUMBER_OF_ITERATIONS :\n",
        "        #this loop places a queen in next row\n",
        "        number_of_iterations += 1\n",
        "        while col < size:\n",
        "            if is_col_place_in_next_row_valid(col, columns):\n",
        "                place_next_row(col, columns)\n",
        "                number_of_moves += 1\n",
        "                # print(f\"placed: row: {row}, col: {col}\")\n",
        "                row += 1\n",
        "                col = 0\n",
        "                break\n",
        "            else:\n",
        "                # print(f\"not placed: row: {row}, col: {col}\")\n",
        "                col += 1\n",
        "\n",
        "\n",
        "        # could not find an open col in this row (backtrack),  or board is full (converged)\n",
        "        if (col == size or row == size):\n",
        "            number_of_iterations+=1\n",
        "            # if board is full, we have a solution\n",
        "            if row == size:\n",
        "                print(\"I did it! Here is my solution\")\n",
        "                display(columns)\n",
        "                converged = True\n",
        "                return columns, number_of_iterations, number_of_moves, converged\n",
        "            # else couldn't find a solution so need to backtrack\n",
        "            # print(\"start to backtrack ... \")\n",
        "            prev_col = remove_current_row(columns)\n",
        "            if (prev_col == -1): # backtracked past column 1\n",
        "                print(\"There are no solutions\")\n",
        "                converged = False\n",
        "                return columns, number_of_iterations, number_of_moves, converged\n",
        "            # retry previous row again\n",
        "            row -= 1\n",
        "            # start to now check at col = (1 + value of prev_column in the row)\n",
        "            col = 1 + prev_col\n",
        "\n"
      ]
    },
    {
      "cell_type": "markdown",
      "source": [
        "Does the DFS algorithm get to 30 (not easily at all!).  To show this check the values for num_iterations and number_moves for values of 10, 20 and 30.  Feel free to stop the DFS algorithm after 10,000,000 iterations!\n"
      ],
      "metadata": {
        "id": "EKTbVMz04Zgp"
      }
    },
    {
      "cell_type": "code",
      "source": [
        "solve_nqueens(solve_dfs, size = 8,  ntrials = 1)"
      ],
      "metadata": {
        "colab": {
          "base_uri": "https://localhost:8080/",
          "height": 312
        },
        "id": "R6lEwj2h8vp8",
        "outputId": "733289a9-0191-42ad-a32b-82b82e5ce63d"
      },
      "execution_count": 13,
      "outputs": [
        {
          "output_type": "stream",
          "name": "stdout",
          "text": [
            "I did it! Here is my solution\n"
          ]
        },
        {
          "output_type": "display_data",
          "data": {
            "text/plain": [
              "[0, 4, 7, 5, 2, 6, 1, 3]"
            ]
          },
          "metadata": {}
        },
        {
          "output_type": "stream",
          "name": "stdout",
          "text": [
            "is converged: True\n",
            "is valid solution obtained (check): True\n",
            "number of iterations: 324\n",
            "number of moves: 113\n",
            "display the results\n",
            "[0, 4, 7, 5, 2, 6, 1, 3]\n",
            "♛  .  .  .  .  .  .  .\n",
            ".  .  .  .  ♛  .  .  .\n",
            ".  .  .  .  .  .  .  ♛\n",
            ".  .  .  .  .  ♛  .  .\n",
            ".  .  ♛  .  .  .  .  .\n",
            ".  .  .  .  .  .  ♛  .\n",
            ".  ♛  .  .  .  .  .  .\n",
            ".  .  .  ♛  .  .  .  .\n",
            "\n"
          ]
        }
      ]
    },
    {
      "cell_type": "markdown",
      "source": [
        "# Hill climbing algorithm with heuristic repair\n",
        "Now implement your Hill Climbing Heuristic Repair Algorithm and check the values for num_iterations and number_moves for values of 10, 20 and 30.\n",
        "\n",
        "In this algorithm there are no partial boards, and all the board positions have all the n queens placed on the board, one in each row (e.g. by random placement).   The algorithm then attempts to improve the board quality by moving any one queen to another position in the same row which leads to a minimum number of conflicts. Therefore each board position evaluation requires evaluating potentially n^2 new states that can be transitioned to, and the final transition is to the best possible successor state.\n",
        "\n",
        "First some useful helper functions to count the number of conflicts for the queen in each row, and total number of conflicts in the entire board (which is the sum of the individual row conflicts divided by 2).\n",
        "\n",
        "Note that the computation of the conflicts is very inefficient and O(n^2) since each configuration is evaluated from scratch.  A more efficient incremental evaluation with O(1) complexity is possible, and will be implemented in future work.\n",
        "\n",
        "Also note that the hill climbing algorithm can lead to a local mininum which is not a valid solution.   We use a heuristic where if there is not improvement after MAX_ITERATIONS_WITHOUT_IMPROVEMENT, then the algorithm restarts from a new random initial configuration.  \n",
        "\n",
        "The implemented algorithm can be speeded up in a few ways: more efficient board evaluation, random moves that don't necessarily pick the best successor state (in order to avoid local minima) etc."
      ],
      "metadata": {
        "id": "a1hjkMwH4IXg"
      }
    },
    {
      "cell_type": "code",
      "source": [
        "def count_row_conflicts(row, columns):\n",
        "  assert row < len(columns)\n",
        "  row_conflicts = 0\n",
        "  col = columns[row]\n",
        "  for queen_row, queen_col in enumerate(columns):\n",
        "    if queen_row != row:\n",
        "      row_conflicts +=  (col == queen_col) + (queen_col - queen_row == col - row) + (queen_col + queen_row == col + row)\n",
        "  return row_conflicts\n",
        "\n",
        "def count_conflicts(columns):\n",
        "  return sum([count_row_conflicts(row, columns) for row in range(len(columns))])/2\n",
        "\n",
        "# some testing code\n",
        "def show_count_row_conflicts():\n",
        "  print(\"display a board with no conflicts\")\n",
        "  columns = [5, 1, 6, 0, 2, 4, 7, 3] # solution\n",
        "  displayBoard(columns)\n",
        "  for row in range(len(columns)):\n",
        "    print(f\"row: {row}, row conflicts: {count_row_conflicts(row, columns)}\")\n",
        "  assert all([count_row_conflicts(row, columns) == 0 for row in range(len(columns))])\n",
        "\n",
        "  print()\n",
        "  print(\"display a board with conflicts\")\n",
        "  columns = [5, 1, 0, 6, 2, 4, 7, 3] # not a solution\n",
        "\n",
        "  displayBoard(columns)\n",
        "  for row in range(len(columns)):\n",
        "    print(f\"row: {row}, row conflicts: {count_row_conflicts(row, columns)}\")\n",
        "  assert not all([count_row_conflicts(row, columns) == 0 for row in range(len(columns))])\n",
        "\n",
        "\n",
        "def test_count_conflicts():\n",
        "  columns = [5, 1, 6, 0, 2, 4, 7, 3] # solution\n",
        "  assert count_conflicts(columns) == 0\n",
        "\n",
        "  print()\n",
        "  columns = [5, 1, 0, 6, 2, 4, 7, 3] # not a solution\n",
        "  assert count_conflicts(columns) == 3\n",
        "\n",
        "\n",
        "show_count_row_conflicts()\n",
        "test_count_conflicts()\n"
      ],
      "metadata": {
        "colab": {
          "base_uri": "https://localhost:8080/"
        },
        "id": "kA2sDQKLnmIO",
        "outputId": "88236885-7064-4e12-aa10-61fcef488011"
      },
      "execution_count": 17,
      "outputs": [
        {
          "output_type": "stream",
          "name": "stdout",
          "text": [
            "display a board with no conflicts\n",
            "[5, 1, 6, 0, 2, 4, 7, 3]\n",
            ".  .  .  .  .  ♛  .  .\n",
            ".  ♛  .  .  .  .  .  .\n",
            ".  .  .  .  .  .  ♛  .\n",
            "♛  .  .  .  .  .  .  .\n",
            ".  .  ♛  .  .  .  .  .\n",
            ".  .  .  .  ♛  .  .  .\n",
            ".  .  .  .  .  .  .  ♛\n",
            ".  .  .  ♛  .  .  .  .\n",
            "\n",
            "row: 0, row conflicts: 0\n",
            "row: 1, row conflicts: 0\n",
            "row: 2, row conflicts: 0\n",
            "row: 3, row conflicts: 0\n",
            "row: 4, row conflicts: 0\n",
            "row: 5, row conflicts: 0\n",
            "row: 6, row conflicts: 0\n",
            "row: 7, row conflicts: 0\n",
            "\n",
            "display a board with conflicts\n",
            "[5, 1, 0, 6, 2, 4, 7, 3]\n",
            ".  .  .  .  .  ♛  .  .\n",
            ".  ♛  .  .  .  .  .  .\n",
            "♛  .  .  .  .  .  .  .\n",
            ".  .  .  .  .  .  ♛  .\n",
            ".  .  ♛  .  .  .  .  .\n",
            ".  .  .  .  ♛  .  .  .\n",
            ".  .  .  .  .  .  .  ♛\n",
            ".  .  .  ♛  .  .  .  .\n",
            "\n",
            "row: 0, row conflicts: 0\n",
            "row: 1, row conflicts: 1\n",
            "row: 2, row conflicts: 2\n",
            "row: 3, row conflicts: 1\n",
            "row: 4, row conflicts: 1\n",
            "row: 5, row conflicts: 1\n",
            "row: 6, row conflicts: 0\n",
            "row: 7, row conflicts: 0\n",
            "\n"
          ]
        }
      ]
    },
    {
      "cell_type": "code",
      "source": [
        "def solve_hillclimbing(size):\n",
        "\n",
        "  MAX_NUMBER_OF_ITERATIONS = 1000\n",
        "  MAX_ITERATIONS_WITHOUT_IMPROVEMENT = 10\n",
        "  number_of_iterations, number_of_moves, converged = 0, 0, False\n",
        "\n",
        "  columns = place_n_queens(size)\n",
        "  min_conflict_count = count_conflicts(columns)\n",
        "  print(f\"initial conflict count: {min_conflict_count}\")\n",
        "\n",
        "  while not converged and number_of_iterations < MAX_NUMBER_OF_ITERATIONS:\n",
        "    number_of_iterations += 1\n",
        "\n",
        "    #check all possible moves and pick the best\n",
        "    best_row, best_col = -1, -1\n",
        "    for row in range(size):\n",
        "      col = columns[row]\n",
        "      for new_col in range(size):\n",
        "        columns[row] = new_col # swap to new state\n",
        "        conflict_count = count_conflicts(columns)\n",
        "        if conflict_count < min_conflict_count:\n",
        "          min_conflict_count = conflict_count\n",
        "          best_row, best_col = row, new_col\n",
        "          improvement_count = 0  # reset counter for tracking no improvement per iteration\n",
        "\n",
        "        columns[row] = col  # swap back to old state and continue\n",
        "\n",
        "    # replace with best solution at the end of the scan\n",
        "    # print(f\"min_conflict_count: {min_conflict_count}\")\n",
        "    if best_row != -1: # better solution found\n",
        "      columns[best_row] = best_col\n",
        "      number_of_moves += size*(size-1) # each open col position is evaluated for each row\n",
        "    else:  # no better solution found\n",
        "      improvement_count += 1\n",
        "      if improvement_count > MAX_ITERATIONS_WITHOUT_IMPROVEMENT: # restart with another random configuration\n",
        "          columns = place_n_queens(size)\n",
        "          min_conflict_count = count_conflicts(columns)\n",
        "\n",
        "    converged = min_conflict_count == 0\n",
        "\n",
        "  return columns, number_of_iterations, number_of_moves, converged"
      ],
      "metadata": {
        "id": "Czn425hIhHdZ"
      },
      "execution_count": 18,
      "outputs": []
    },
    {
      "cell_type": "code",
      "source": [
        "\n",
        "solve_nqueens(solve_hillclimbing, size = 8,  ntrials = 1)"
      ],
      "metadata": {
        "id": "J27641cq4o9t",
        "colab": {
          "base_uri": "https://localhost:8080/"
        },
        "outputId": "30176910-8226-4bfb-ba78-a8ac329cf41f"
      },
      "execution_count": 19,
      "outputs": [
        {
          "output_type": "stream",
          "name": "stdout",
          "text": [
            "initial conflict count: 8.0\n",
            "is converged: True\n",
            "is valid solution obtained (check): True\n",
            "number of iterations: 89\n",
            "number of moves: 1288\n",
            "display the results\n",
            "[6, 1, 3, 0, 7, 4, 2, 5]\n",
            ".  .  .  .  .  .  ♛  .\n",
            ".  ♛  .  .  .  .  .  .\n",
            ".  .  .  ♛  .  .  .  .\n",
            "♛  .  .  .  .  .  .  .\n",
            ".  .  .  .  .  .  .  ♛\n",
            ".  .  .  .  ♛  .  .  .\n",
            ".  .  ♛  .  .  .  .  .\n",
            ".  .  .  .  .  ♛  .  .\n",
            "\n"
          ]
        }
      ]
    },
    {
      "cell_type": "markdown",
      "source": [
        "# Forward checking algorithm\n",
        "Now implement your Forward Checking and check the values for num_iterations and number_moves for values of 10, 20 and 30. As this algorithm is not deterministic, run the algorithm 30 times for each of the values for n and report on the average values for the two metrics num_iterations and num_moves.\n",
        "\n",
        "The code is very similar to dfs with backtracking except that instead of checking each column position in a new row for conflicts with existing rows, instead,  the conflicting columns in the ensuing rows are removed from consideration in the tree search.   \n",
        "\n",
        "While backtracking, the conflicting columns must be reinstated but a single square on the board can have multiple conflicts from previous row placement.  Hence, during backtracking, the constraints are forward checked from scratch (a more efficient implementation would only roll back the new constraints introduced in the state to which the algorithm backtracks but that is future work).\n",
        "\n",
        "First some helper functions to display the constrained boards"
      ],
      "metadata": {
        "id": "Czw7MqID4sRP"
      }
    },
    {
      "cell_type": "code",
      "source": [
        "def displayConstraints(domains):\n",
        "    if not columns:\n",
        "        return\n",
        "    n = len(domains)\n",
        "    print(f\"size: {n}\")\n",
        "    for domain in domains:\n",
        "        rowStr = [\".\" if x in domain else \"X\" for x in range(n)]\n",
        "        print(\"  \".join(rowStr))\n",
        "    print()\n",
        "\n",
        "\n",
        "def is_col_open_in_row(row, col, domains):\n",
        "  return col in domains[row]\n",
        "\n",
        "def forward_check(row, col, domains):\n",
        "  for r, domain in enumerate(domains[row:], row):\n",
        "    domain.discard(col) # remove same column\n",
        "    domain.discard(abs(col-row+r)) # remove diagonal\n",
        "    domain.discard(abs(col+row-r)) # remove anti diagonal\n",
        "\n",
        "def forward_check_redo(size, columns):\n",
        "  domains = [set(range(size)) for _ in range(size)]\n",
        "  for row, col in enumerate(columns):\n",
        "    for r, domain in enumerate(domains[row:], row):\n",
        "      domain.discard(col) # remove same column\n",
        "      domain.discard(abs(col-row+r)) # remove diagonal\n",
        "      domain.discard(abs(col+row-r)) # remove anti diagonal\n",
        "  return domains\n",
        "\n",
        "def initialize_domains(size):\n",
        "  assert size >= 0\n",
        "  domains = [set(range(size)) for x in range(size)]\n",
        "  return domains\n",
        "\n",
        "size = 5\n",
        "domains = initialize_domains(size)  # Initialize domains with all columns\n",
        "print(domains)\n",
        "\n",
        "print(\"initial board\")\n",
        "displayConstraints(domains)\n",
        "\n",
        "forward_check(0, 0, domains)\n",
        "print(\"board after placement (0,0)\")\n",
        "displayConstraints(domains)\n",
        "\n",
        "forward_check(1, 3, domains)\n",
        "print(\"board after placement (1,3)\")\n",
        "displayConstraints(domains)\n",
        "\n",
        "columns = [0,3]\n",
        "domains = forward_check_redo(size,columns)\n",
        "print(\"board after redo for placements (0,0), (1,3)\")\n",
        "displayConstraints(domains)\n"
      ],
      "metadata": {
        "id": "UeLL1kU-51ba",
        "colab": {
          "base_uri": "https://localhost:8080/"
        },
        "outputId": "0b77b793-171d-43fa-e327-8305494aae6d"
      },
      "execution_count": 22,
      "outputs": [
        {
          "output_type": "stream",
          "name": "stdout",
          "text": [
            "[{0, 1, 2, 3, 4}, {0, 1, 2, 3, 4}, {0, 1, 2, 3, 4}, {0, 1, 2, 3, 4}, {0, 1, 2, 3, 4}]\n",
            "initial board\n",
            "size: 5\n",
            ".  .  .  .  .\n",
            ".  .  .  .  .\n",
            ".  .  .  .  .\n",
            ".  .  .  .  .\n",
            ".  .  .  .  .\n",
            "\n",
            "board after placement (0,0)\n",
            "size: 5\n",
            "X  .  .  .  .\n",
            "X  X  .  .  .\n",
            "X  .  X  .  .\n",
            "X  .  .  X  .\n",
            "X  .  .  .  X\n",
            "\n",
            "board after placement (1,3)\n",
            "size: 5\n",
            "X  .  .  .  .\n",
            "X  X  .  X  .\n",
            "X  .  X  X  X\n",
            "X  X  .  X  .\n",
            "X  .  .  X  X\n",
            "\n",
            "board after redo for placements (0,0), (1,3)\n",
            "size: 5\n",
            "X  .  .  .  .\n",
            "X  X  .  X  .\n",
            "X  .  X  X  X\n",
            "X  X  .  X  .\n",
            "X  .  .  X  X\n",
            "\n"
          ]
        }
      ]
    },
    {
      "cell_type": "code",
      "execution_count": 25,
      "metadata": {
        "id": "wMs7wMkxeh4n"
      },
      "outputs": [],
      "source": [
        "def solve_forward_checking(size):\n",
        "    columns = []\n",
        "    domains = [set(range(size)) for _ in range(size)]  # Initialize domains with all columns\n",
        "    number_of_moves = 0 #where do I change this so it counts the number of Queen moves?\n",
        "    number_of_iterations = 0\n",
        "\n",
        "    row = 0 # current row\n",
        "    col = 0 # always start each row at leftmost col\n",
        "    # iterate over rows of board\n",
        "    while True:\n",
        "        while col < size:\n",
        "            number_of_iterations += 1\n",
        "            if col in domains[row]:\n",
        "                place_next_row(col, columns)\n",
        "                forward_check(row, col, domains)\n",
        "                number_of_moves += 1\n",
        "                # print(f\"placed: row: {row}, col: {col}\")\n",
        "                row += 1\n",
        "                col = 0\n",
        "                break\n",
        "            else:\n",
        "                # print(f\"not placed: row: {row}, col: {col}\")\n",
        "                col += 1\n",
        "\n",
        "        # could not find an open col in this row (backtrack),  or board is full\n",
        "        if (col == size or row == size):\n",
        "            number_of_iterations+=1\n",
        "            # if board is full, we have a solution\n",
        "            if row == size:\n",
        "                print(\"I did it! Here is my solution\")\n",
        "                display(columns)\n",
        "                converged = True\n",
        "                return columns, number_of_iterations, number_of_moves, converged\n",
        "            # else couldn't find a solution so need to backtrack\n",
        "            # print(\"start to backtrack ... \")\n",
        "            prev_col = remove_current_row(columns)\n",
        "            if (prev_col == -1): # backtracked past column 1\n",
        "                print(\"There are no solutions\")\n",
        "                #print(number_of_moves)\n",
        "                converged = False\n",
        "                return columns, number_of_iterations, number_of_moves, converged\n",
        "            # retry previous row again, redo the forward checking\n",
        "            row -= 1\n",
        "            domains = forward_check_redo(size,columns)\n",
        "            # start to now check at col = (1 + value of prev_column in the row)\n",
        "            col = 1 + prev_col\n",
        "\n"
      ]
    },
    {
      "cell_type": "markdown",
      "source": [],
      "metadata": {
        "id": "OSCxjTGwXW9v"
      }
    },
    {
      "cell_type": "code",
      "source": [
        "solve_nqueens(solve_forward_checking, size = 8,  ntrials = 1)"
      ],
      "metadata": {
        "colab": {
          "base_uri": "https://localhost:8080/",
          "height": 312
        },
        "id": "ZW63H8TRDBUT",
        "outputId": "e074a29d-3694-4be2-b430-e5162eae61f9"
      },
      "execution_count": 26,
      "outputs": [
        {
          "output_type": "stream",
          "name": "stdout",
          "text": [
            "I did it! Here is my solution\n"
          ]
        },
        {
          "output_type": "display_data",
          "data": {
            "text/plain": [
              "[1, 3, 5, 7, 2, 0, 6, 4]"
            ]
          },
          "metadata": {}
        },
        {
          "output_type": "stream",
          "name": "stdout",
          "text": [
            "is converged: True\n",
            "is valid solution obtained (check): True\n",
            "number of iterations: 1882\n",
            "number of moves: 213\n",
            "display the results\n",
            "[1, 3, 5, 7, 2, 0, 6, 4]\n",
            ".  ♛  .  .  .  .  .  .\n",
            ".  .  .  ♛  .  .  .  .\n",
            ".  .  .  .  .  ♛  .  .\n",
            ".  .  .  .  .  .  .  ♛\n",
            ".  .  ♛  .  .  .  .  .\n",
            "♛  .  .  .  .  .  .  .\n",
            ".  .  .  .  .  .  ♛  .\n",
            ".  .  .  .  ♛  .  .  .\n",
            "\n"
          ]
        }
      ]
    },
    {
      "cell_type": "markdown",
      "source": [
        "# Final Results"
      ],
      "metadata": {
        "id": "MaQIGsqWXQ8e"
      }
    },
    {
      "cell_type": "markdown",
      "source": [
        "Challenge Question: Write a loop solving and printing each of the n-Queens problems to 40.  Can you get either of the solutions to get all the way to 40?  Did you need to add clever tricks to make it happen?"
      ],
      "metadata": {
        "id": "cGJ5d1Vp457h"
      }
    }
  ],
  "metadata": {
    "colab": {
      "provenance": [],
      "toc_visible": true
    },
    "kernelspec": {
      "display_name": "Python 3",
      "name": "python3"
    },
    "language_info": {
      "codemirror_mode": {
        "name": "ipython",
        "version": 3
      },
      "file_extension": ".py",
      "mimetype": "text/x-python",
      "name": "python",
      "nbconvert_exporter": "python",
      "pygments_lexer": "ipython3",
      "version": "3.10.13"
    }
  },
  "nbformat": 4,
  "nbformat_minor": 0
}