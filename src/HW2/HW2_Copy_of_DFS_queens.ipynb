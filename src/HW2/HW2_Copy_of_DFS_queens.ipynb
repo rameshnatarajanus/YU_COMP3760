{
  "cells": [
    {
      "cell_type": "markdown",
      "metadata": {
        "id": "I_5uxzwmw86r"
      },
      "source": [
        "R. N. Modification of the original code from Prof Avi Rosenfeld.\n",
        "\n",
        "Note: 2 queens and 3 queens do not have a solution."
      ]
    },
    {
      "cell_type": "markdown",
      "metadata": {
        "id": "KYYQSRC3iZwd"
      },
      "source": [
        "This is the notebook version of the code. I will use this to explain the homework.  I used parts of the code from: https://www.sanfoundry.com/python-program-solve-n-queen-problem-without-recursion/"
      ]
    },
    {
      "cell_type": "markdown",
      "metadata": {
        "id": "buNsAi39imMX"
      },
      "source": [
        "As we did in class, we will represent the board as a one-dimensional array where each position in the arrray is the n'th queen's row value. So if the array is: [1, 3, 0, 2], then the first queen in the first row is in position 1 (from 0--3), the queen in the second row is in position 3 (the last row), the queen in the third row is in the first row and the last queen is the in the second position."
      ]
    },
    {
      "cell_type": "markdown",
      "metadata": {
        "id": "3yiyZY21jX2A"
      },
      "source": [
        "Let's setup one iteration of the British Museum algorithm-- we'll put down n=8 queens randomly."
      ]
    },
    {
      "cell_type": "code",
      "execution_count": 2,
      "metadata": {
        "id": "vaypjvRyvXb1"
      },
      "outputs": [],
      "source": [
        "import random\n",
        "def place_n_queens(n):\n",
        "    assert n >= 0\n",
        "    columns = [random.randrange(0,n) for x in range(n)]\n",
        "    return columns\n",
        "\n",
        "\n",
        "def displayBoard(columns):\n",
        "    if not columns:\n",
        "        return\n",
        "    n = len(columns)\n",
        "    print(columns)\n",
        "    for rowVal in range(n):\n",
        "        rowStr = [\".\" for x in range(n)]\n",
        "        rowStr[columns[rowVal]] = '♛'\n",
        "        print(\"  \".join(rowStr))\n",
        "    print()\n"
      ]
    },
    {
      "cell_type": "code",
      "execution_count": 3,
      "metadata": {
        "colab": {
          "base_uri": "https://localhost:8080/"
        },
        "id": "97X0rqn1HwcR",
        "outputId": "fc8cc11f-b2e7-436a-b66e-2f21e274e9ac"
      },
      "outputs": [
        {
          "name": "stdout",
          "output_type": "stream",
          "text": [
            "[0, 6, 5, 6, 5, 4, 4, 0]\n",
            "♛  .  .  .  .  .  .  .\n",
            ".  .  .  .  .  .  ♛  .\n",
            ".  .  .  .  .  ♛  .  .\n",
            ".  .  .  .  .  .  ♛  .\n",
            ".  .  .  .  .  ♛  .  .\n",
            ".  .  .  .  ♛  .  .  .\n",
            ".  .  .  .  ♛  .  .  .\n",
            "♛  .  .  .  .  .  .  .\n",
            "\n"
          ]
        }
      ],
      "source": [
        "columns = place_n_queens(8)\n",
        "displayBoard(columns)"
      ]
    },
    {
      "cell_type": "markdown",
      "metadata": {
        "id": "IkJ6-mkSkGoo"
      },
      "source": [
        "This arrangement is of course is not necessary legal, so we'll write a simple DFS search with backtracking:\n",
        "\n",
        "First some helper functions ..\n",
        "\n",
        "\n",
        "1. place_in_next_row\n",
        "\n",
        "2. remove_from_current_row\n",
        "\n",
        "3. is_place_in_next_row_valid"
      ]
    },
    {
      "cell_type": "code",
      "execution_count": 4,
      "metadata": {
        "id": "2CvQuja7kyii"
      },
      "outputs": [],
      "source": [
        "def place_in_next_row(col, columns):\n",
        "    columns.append(col)\n",
        "\n",
        "def remove_from_current_row(columns):\n",
        "    if len(columns) > 0:\n",
        "        return columns.pop()\n",
        "    return -1\n",
        "\n",
        "# better version\n",
        "\n",
        "def is_place_in_next_row_valid(col, columns):\n",
        "    # new row\n",
        "    row = len(columns)\n",
        "\n",
        "    # for each row with existing queen check if the current (row, col) position is not valid\n",
        "\n",
        "    for queen_row, queen_column in enumerate(columns):\n",
        "        if col == queen_column:\n",
        "            return False\n",
        "          # check if col in new row is in the same diagonal as existing queen\n",
        "        if queen_column - queen_row == col - row:\n",
        "            return False\n",
        "          # check if col in new row is in the same anti-diagonal as existing queen\n",
        "        if queen_column + queen_row == col + row:\n",
        "            return False\n",
        "\n",
        "    return True\n"
      ]
    },
    {
      "cell_type": "markdown",
      "metadata": {
        "id": "qPHBFqPikkEL"
      },
      "source": [
        "We can now write the desired dfs code by starting with a blank board and placing the queens in one row at a time, starting with the first row.\n",
        "\n"
      ]
    },
    {
      "cell_type": "code",
      "execution_count": 8,
      "metadata": {
        "id": "UHy5XYdAMGC2"
      },
      "outputs": [],
      "source": [
        "def solve_queens_dfs(size):\n",
        "    columns = []\n",
        "    number_of_moves = 0 #where do I change this so it counts the number of Queen moves?\n",
        "    number_of_iterations = 0\n",
        "    row = 0 # current row\n",
        "    col = 0 # always start each row at leftmost col\n",
        "    # iterate over rows of board\n",
        "    while True:\n",
        "        #place queen in next row\n",
        "        # print(\"I have \", row, \" number of queens put down\")\n",
        "        # print(columns)\n",
        "        # print(f\"number_of_moves: {number_of_moves}\")\n",
        "        while col < size:\n",
        "            number_of_iterations += 1\n",
        "            if is_place_in_next_row_valid(col, columns):\n",
        "                place_in_next_row(col, columns)\n",
        "                # print(f\"placed: row: {row}, col: {col}\")\n",
        "                row += 1\n",
        "                col = 0\n",
        "                break\n",
        "            else:\n",
        "                # print(f\"not placed: row: {row}, col: {col}\")\n",
        "                col += 1\n",
        "\n",
        "\n",
        "        # could not find an open col in this row,  or board is full\n",
        "        if (col == size or row == size):\n",
        "            number_of_iterations+=1\n",
        "            # if board is full, we have a solution\n",
        "            if row == size:\n",
        "                print(\"I did it! Here is my solution\")\n",
        "                display(columns)\n",
        "                converged = True\n",
        "                return columns, number_of_iterations, number_of_moves, converged\n",
        "            # else couldn't find a solution so need to backtrack\n",
        "            # print(\"start to backtrack ... \")\n",
        "            prev_col = remove_from_current_row(columns)\n",
        "            if (prev_col == -1): # backtracked past column 1\n",
        "                print(\"There are no solutions\")\n",
        "                #print(number_of_moves)\n",
        "                converged = False\n",
        "                return columns, number_of_iterations, number_of_moves, converged\n",
        "            # retry previous row again\n",
        "            row -= 1\n",
        "            # start to now check at col = (1 + value of prev_column in the row)\n",
        "            col = 1 + prev_col\n",
        "\n"
      ]
    },
    {
      "cell_type": "code",
      "execution_count": 10,
      "metadata": {
        "colab": {
          "base_uri": "https://localhost:8080/",
          "height": 1000
        },
        "id": "D7SgEJ6RVm1T",
        "outputId": "802438a0-3e7e-4687-9ed9-58d6568efb8f"
      },
      "outputs": [
        {
          "name": "stdout",
          "output_type": "stream",
          "text": [
            "I did it! Here is my solution\n"
          ]
        },
        {
          "data": {
            "text/plain": [
              "[0, 4, 7, 5, 2, 6, 1, 3]"
            ]
          },
          "metadata": {},
          "output_type": "display_data"
        },
        {
          "name": "stdout",
          "output_type": "stream",
          "text": [
            "number of iterations: 982\n",
            "number of moves: 0\n",
            "display the results\n",
            "[0, 4, 7, 5, 2, 6, 1, 3]\n",
            "♛  .  .  .  .  .  .  .\n",
            ".  .  .  .  ♛  .  .  .\n",
            ".  .  .  .  .  .  .  ♛\n",
            ".  .  .  .  .  ♛  .  .\n",
            ".  .  ♛  .  .  .  .  .\n",
            ".  .  .  .  .  .  ♛  .\n",
            ".  ♛  .  .  .  .  .  .\n",
            ".  .  .  ♛  .  .  .  .\n",
            "\n"
          ]
        }
      ],
      "source": [
        "# size = int(input('Enter n: '))\n",
        "size = 8\n",
        "ntrials = 1 # for timing runs,  or for multiple restarts for randomized algorithms\n",
        "for i in range(0, ntrials):\n",
        "  num_iterations=0\n",
        "  number_moves = 0\n",
        "  columns, num_iterations, number_moves, converged=solve_queens_dfs(size)\n",
        "  print(f\"number of iterations: {num_iterations}\")\n",
        "  print(f\"number of moves: {number_moves}\")\n",
        "  if converged:\n",
        "      print(\"display the results\")\n",
        "      displayBoard(columns)"
      ]
    },
    {
      "cell_type": "markdown",
      "metadata": {
        "id": "ku6jHFBZQND-"
      },
      "source": [
        "Now what?  Can you implement the British Museum Algorithm?  How many moves and iterations did it take to solve the 4 queens problem?  \n",
        "\n",
        "How many moves/iterations did it take to solve the 8 queens (if at all)?"
      ]
    }
  ],
  "metadata": {
    "colab": {
      "provenance": []
    },
    "kernelspec": {
      "display_name": "Python 3",
      "name": "python3"
    },
    "language_info": {
      "codemirror_mode": {
        "name": "ipython",
        "version": 3
      },
      "file_extension": ".py",
      "mimetype": "text/x-python",
      "name": "python",
      "nbconvert_exporter": "python",
      "pygments_lexer": "ipython3",
      "version": "3.10.13"
    }
  },
  "nbformat": 4,
  "nbformat_minor": 0
}
