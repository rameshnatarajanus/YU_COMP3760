{
  "nbformat": 4,
  "nbformat_minor": 0,
  "metadata": {
    "colab": {
      "provenance": [],
      "authorship_tag": "ABX9TyMvTVE/ULZBG8HAXAjeWNQ+",
      "include_colab_link": true
    },
    "kernelspec": {
      "name": "python3",
      "display_name": "Python 3"
    },
    "language_info": {
      "name": "python"
    }
  },
  "cells": [
    {
      "cell_type": "markdown",
      "metadata": {
        "id": "view-in-github",
        "colab_type": "text"
      },
      "source": [
        "<a href=\"https://colab.research.google.com/github/rameshnatarajanus/YU_COMP3760/blob/4-hw3-solve-connect4-puzzle-using-heuristic-agent-and-alpha-beta-pruning-algorithms/src/HW3/Connect4.ipynb\" target=\"_parent\"><img src=\"https://colab.research.google.com/assets/colab-badge.svg\" alt=\"Open In Colab\"/></a>"
      ]
    },
    {
      "cell_type": "code",
      "execution_count": null,
      "metadata": {
        "id": "Qxk0qBKCcVEw"
      },
      "outputs": [],
      "source": []
    },
    {
      "cell_type": "code",
      "source": [
        "import copy\n",
        "import numpy as np\n",
        "import random\n",
        "from termcolor import colored  # can be taken out if you don't like it...\n"
      ],
      "metadata": {
        "id": "6iR6OhGq4C-C"
      },
      "execution_count": 3,
      "outputs": []
    },
    {
      "cell_type": "code",
      "source": [
        "# # # # # # # # # # # # # # global values  # # # # # # # # # # # # # #\n",
        "ROW_COUNT = 6\n",
        "COLUMN_COUNT = 7\n",
        "\n",
        "RED_CHAR = colored('X', 'red')  # RED_CHAR = 'X'\n",
        "BLUE_CHAR = colored('O', 'blue')  # BLUE_CHAR = 'O'\n",
        "\n",
        "EMPTY = 0\n",
        "RED_INT = 1\n",
        "BLUE_INT = 2\n"
      ],
      "metadata": {
        "id": "yUiU6pKV4LBp"
      },
      "execution_count": 4,
      "outputs": []
    },
    {
      "cell_type": "code",
      "source": [
        "\n",
        "def create_board():\n",
        "    \"\"\"creat empty board for new game\"\"\"\n",
        "    board = np.zeros((ROW_COUNT, COLUMN_COUNT), dtype=int)\n",
        "    return board\n",
        "\n",
        "\n",
        "def drop_chip(board, row, col, chip):\n",
        "    \"\"\"place a chip (red or BLUE) in a certain position in board\"\"\"\n",
        "    board[row][col] = chip\n",
        "\n",
        "\n",
        "def is_valid_location(board, col):\n",
        "    \"\"\"check if a given column in the board has a room for extra dropped chip\"\"\"\n",
        "    return board[ROW_COUNT - 1][col] == 0\n",
        "\n",
        "def get_next_open_row(board, col):\n",
        "    \"\"\"assuming column is available to drop the chip,\n",
        "    the function returns the lowest empty row  \"\"\"\n",
        "    for r in range(ROW_COUNT):\n",
        "        if board[r][col] == 0:\n",
        "            return r\n",
        "\n",
        "def print_board(board):\n",
        "    \"\"\"print current board with all chips put in so far\"\"\"\n",
        "    # print(np.flip(board, 0))\n",
        "    print(\" 1 2 3 4 5 6 7 \\n\" \"|\" + np.array2string(np.flip(np.flip(board, 1)))\n",
        "          .replace(\"[\", \"\").replace(\"]\", \"\").replace(\" \", \"|\").replace(\"0\", \"_\")\n",
        "          .replace(\"1\", RED_CHAR).replace(\"2\", BLUE_CHAR).replace(\"\\n\", \"|\\n\") + \"|\")\n",
        "\n",
        "def game_is_won(board, chip):\n",
        "    \"\"\"check if current board contain a sequence of 4-in-a-row of in the board\n",
        "     for the player that play with \"chip\"  \"\"\"\n",
        "\n",
        "    winning_Sequence = np.array([chip, chip, chip, chip])\n",
        "    # Check horizontal sequences\n",
        "    for r in range(ROW_COUNT):\n",
        "        if \"\".join(list(map(str, winning_Sequence))) in \"\".join(list(map(str, board[r, :]))):\n",
        "            return True\n",
        "    # Check vertical sequences\n",
        "    for c in range(COLUMN_COUNT):\n",
        "        if \"\".join(list(map(str, winning_Sequence))) in \"\".join(list(map(str, board[:, c]))):\n",
        "            return True\n",
        "    # Check positively sloped diagonals\n",
        "    for offset in range(-2, 4):\n",
        "        if \"\".join(list(map(str, winning_Sequence))) in \"\".join(list(map(str, board.diagonal(offset)))):\n",
        "            return True\n",
        "    # Check negatively sloped diagonals\n",
        "    for offset in range(-2, 4):\n",
        "        if \"\".join(list(map(str, winning_Sequence))) in \"\".join(list(map(str, np.flip(board, 1).diagonal(offset)))):\n",
        "            return True\n",
        "\n",
        "def get_valid_locations(board):\n",
        "    valid_locations = []\n",
        "    for col in range(COLUMN_COUNT):\n",
        "        if is_valid_location(board, col):\n",
        "            valid_locations.append(col)\n",
        "    return valid_locations\n",
        "\n",
        "def MoveRandom(board, color):\n",
        "    valid_locations = get_valid_locations(board)\n",
        "    column = random.choice(valid_locations)   # you can replace with input if you like... -- line updated with Gilad's code-- thanks!\n",
        "    row = get_next_open_row(board, column)\n",
        "    drop_chip(board, row, column, color)\n"
      ],
      "metadata": {
        "id": "KP3KHA7J4U8Y"
      },
      "execution_count": 6,
      "outputs": []
    },
    {
      "cell_type": "code",
      "source": [
        "board = create_board()\n",
        "\n",
        "drop_chip(board, 5, 0, RED_INT)\n",
        "drop_chip(board, 5, 1, BLUE_INT)\n",
        "print_board(board)\n",
        "print(get_valid_locations(board))"
      ],
      "metadata": {
        "colab": {
          "base_uri": "https://localhost:8080/"
        },
        "id": "fZWOfqWG8fS9",
        "outputId": "520cb56f-47f2-4a34-a680-8296846d49c5"
      },
      "execution_count": 19,
      "outputs": [
        {
          "output_type": "stream",
          "name": "stdout",
          "text": [
            " 1 2 3 4 5 6 7 \n",
            "|X|O|_|_|_|_|_|\n",
            "|_|_|_|_|_|_|_|\n",
            "|_|_|_|_|_|_|_|\n",
            "|_|_|_|_|_|_|_|\n",
            "|_|_|_|_|_|_|_|\n",
            "|_|_|_|_|_|_|_|\n",
            "[2, 3, 4, 5, 6]\n"
          ]
        }
      ]
    },
    {
      "cell_type": "code",
      "source": [
        "# # # # # # # # # # # # # # main execution of the game # # # # # # # # # # # # # #\n",
        "turn = 0\n",
        "\n",
        "board = create_board()\n",
        "print_board(board)\n",
        "game_over = False\n",
        "\n",
        "while not game_over:\n",
        "    if turn % 2 == 0:\n",
        "        col = int(input(\"RED please choose a column(1-7): \"))\n",
        "        while col > 7 or col < 1:\n",
        "            col = int(input(\"Invalid column, pick a valid one: \"))\n",
        "        while not is_valid_location(board, col - 1):\n",
        "            col = int(input(\"Column is full. pick another one...\"))\n",
        "        col -= 1\n",
        "\n",
        "        row = get_next_open_row(board, col)\n",
        "        drop_chip(board, row, col, RED_INT)\n",
        "\n",
        "    if turn % 2 == 1 and not game_over:\n",
        "        MoveRandom(board,BLUE_INT)\n",
        "\n",
        "    print_board(board)\n",
        "\n",
        "    if game_is_won(board, RED_INT):\n",
        "        game_over = True\n",
        "        print(colored(\"Red wins!\", 'red'))\n",
        "    if game_is_won(board, BLUE_INT):\n",
        "        game_over = True\n",
        "        print(colored(\"Blue wins!\", 'blue'))\n",
        "    if len(get_valid_locations(board)) == 0:\n",
        "        game_over = True\n",
        "        print(colored(\"Draw!\", 'blue'))\n",
        "    turn += 1\n",
        "\n",
        "#tmp = copy.deepcopy(board)"
      ],
      "metadata": {
        "colab": {
          "base_uri": "https://localhost:8080/"
        },
        "id": "bILT3n6t4Zk8",
        "outputId": "efc1b7c8-a167-4a67-a5e6-ad6a4bf07ff2"
      },
      "execution_count": 20,
      "outputs": [
        {
          "output_type": "stream",
          "name": "stdout",
          "text": [
            " 1 2 3 4 5 6 7 \n",
            "|_|_|_|_|_|_|_|\n",
            "|_|_|_|_|_|_|_|\n",
            "|_|_|_|_|_|_|_|\n",
            "|_|_|_|_|_|_|_|\n",
            "|_|_|_|_|_|_|_|\n",
            "|_|_|_|_|_|_|_|\n",
            "RED please choose a column(1-7): 3\n",
            " 1 2 3 4 5 6 7 \n",
            "|_|_|_|_|_|_|_|\n",
            "|_|_|_|_|_|_|_|\n",
            "|_|_|_|_|_|_|_|\n",
            "|_|_|_|_|_|_|_|\n",
            "|_|_|_|_|_|_|_|\n",
            "|_|_|X|_|_|_|_|\n",
            " 1 2 3 4 5 6 7 \n",
            "|_|_|_|_|_|_|_|\n",
            "|_|_|_|_|_|_|_|\n",
            "|_|_|_|_|_|_|_|\n",
            "|_|_|_|_|_|_|_|\n",
            "|_|_|_|_|_|_|_|\n",
            "|O|_|X|_|_|_|_|\n",
            "RED please choose a column(1-7): 3\n",
            " 1 2 3 4 5 6 7 \n",
            "|_|_|_|_|_|_|_|\n",
            "|_|_|_|_|_|_|_|\n",
            "|_|_|_|_|_|_|_|\n",
            "|_|_|_|_|_|_|_|\n",
            "|_|_|X|_|_|_|_|\n",
            "|O|_|X|_|_|_|_|\n",
            " 1 2 3 4 5 6 7 \n",
            "|_|_|_|_|_|_|_|\n",
            "|_|_|_|_|_|_|_|\n",
            "|_|_|_|_|_|_|_|\n",
            "|_|_|_|_|_|_|_|\n",
            "|_|_|X|_|_|_|_|\n",
            "|O|O|X|_|_|_|_|\n",
            "RED please choose a column(1-7): 3\n",
            " 1 2 3 4 5 6 7 \n",
            "|_|_|_|_|_|_|_|\n",
            "|_|_|_|_|_|_|_|\n",
            "|_|_|_|_|_|_|_|\n",
            "|_|_|X|_|_|_|_|\n",
            "|_|_|X|_|_|_|_|\n",
            "|O|O|X|_|_|_|_|\n",
            " 1 2 3 4 5 6 7 \n",
            "|_|_|_|_|_|_|_|\n",
            "|_|_|_|_|_|_|_|\n",
            "|_|_|_|_|_|_|_|\n",
            "|_|_|X|_|_|_|_|\n",
            "|_|_|X|_|_|_|_|\n",
            "|O|O|X|_|O|_|_|\n",
            "RED please choose a column(1-7): 3\n",
            " 1 2 3 4 5 6 7 \n",
            "|_|_|_|_|_|_|_|\n",
            "|_|_|_|_|_|_|_|\n",
            "|_|_|X|_|_|_|_|\n",
            "|_|_|X|_|_|_|_|\n",
            "|_|_|X|_|_|_|_|\n",
            "|O|O|X|_|O|_|_|\n",
            "Red wins!\n"
          ]
        }
      ]
    }
  ]
}